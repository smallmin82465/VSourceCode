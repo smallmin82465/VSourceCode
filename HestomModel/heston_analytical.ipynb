{
 "cells": [
  {
   "attachments": {},
   "cell_type": "markdown",
   "id": "fae42e73",
   "metadata": {},
   "source": [
    "# Heston model: Anytical solution\n",
    "al\n",
    "In this notebook, we show how to price European options with the Heston stochastic volatility model.\n",
    "\n",
    "The Heston model is defined by the following system of stochastic differential equations where the stock price follows a geometric Brownian motion and its variance follows a Cox-Ingersoll-Ross (CIR) process,\n",
    "\n",
    "\\begin{align}\n",
    "\t&dS_t = \\mu S_t dt + \\sqrt{v_t} S_t dW_t^{(1)} \\\\\n",
    "\t&dv_t = \\kappa ( \\theta - v_t ) dt + \\sigma \\sqrt{v_t} dW_t^{(2)} \\\\\n",
    "\t&dW_t^{(1)} dW_t^{(2)} = \\rho dt\n",
    "\\end{align}\n",
    "\n",
    "where $S_t$ is the underlying stock price, $v_t$ is its variance, $\\mu$ is the expected return, $\\kappa$ is the mean-reversion rate, $\\theta$ is the long-term variance, $\\sigma$ is the volatility of volatility, $W_t$ is a Wiener process and $\\rho$ is the correlation coefficient between the Brownian motions. There are also two initial parameters, $S_0$ and $v_0$ which are non-negative.\n",
    "\n",
    "The process $v_t$ is strictly positive if the Feller condition is satisfied. It is given by\n",
    "\n",
    "\\begin{equation}\n",
    "    2 \\kappa \\theta > \\sigma^2.\n",
    "\\end{equation}\n",
    "\n",
    "The Heston model yields a semi-closed form solution for pricing European equity options. The price for a European call option, $C(S, v, t)$, at time $t$ with time to maturity $\\tau = T - t$ and strike $K$ is given by\n",
    "\n",
    "\\begin{equation}\n",
    "\tC(S, v, t) = S_t e^{-q \\tau} P_1 - K e^{-r \\tau} P_2 \n",
    "\\end{equation}\n",
    "\n",
    "where $q$ is the dividend rate and $r$ is the interest rate and $P_m, m = \\{1, 2\\}$ are risk-neutral probabilities obtained by inverting the characteristic function $f_m$ (given below). Hence,\n",
    "\n",
    "\\begin{equation}\n",
    "    P_m = \\frac{1}{2} + \\frac{1}{\\pi} \\int_0^{\\infty} \\operatorname{Re} \\left[ \\frac{e^{-i \\phi \\ln(K)}f_m}{i \\phi} \\right] d\\phi\n",
    "\\end{equation}\n",
    "\n",
    "where\n",
    "\n",
    "\\begin{align}\n",
    "\t&d_m = \\sqrt{(i \\rho \\sigma \\phi)^2 - \\sigma^2 (i 2 u_m \\phi - \\phi^2 )} \\\\\n",
    "\t&g_m = \\frac{b_m - i \\rho \\sigma \\phi + d_m}{b_m - i \\rho \\sigma \\phi - d_m} \\\\\n",
    "\t&C_m = i(r - q) \\phi \\tau + \\frac{\\kappa \\theta}{\\sigma^2} \\left[ (b_m - i \\rho \\sigma \\phi + d_m) \\tau - 2 \\ln \\left( \\frac{1 - g_m e^{d_m \\tau}}{1 - g_m} \t\\right) \\right] \\\\[5pt]\n",
    "\t&D_m = \\frac{b_m - i \\rho \\sigma \\phi + d_m}{\\sigma^2} \\left( \\frac{1 - e^{d_m \\tau}}{1 - g_m e^{d_m \\tau}} \\right) \\\\\n",
    "\t&f_m = \\exp(C_m + D_m v_t + i \\phi \\ln S_t) \n",
    "\t\n",
    "\\end{align}\n",
    "\n",
    "\n",
    "In the above expressions, $i = \\sqrt{-1}$ is the imaginary unit, $u_1 = \\frac{1}{2}$, $u_2 = - \\frac{1}{2}$, $b_1 = \\kappa + \\lambda - \\rho \\sigma$ and $b_2 = \\kappa + \\lambda$. The parameter $\\lambda$ is the market price of volatility risk. \n",
    "\n",
    "First, let's implement the function to price call options. Note that we price the option at time $t = 0$, therefore, $\\tau = T$."
   ]
  },
  {
   "cell_type": "code",
   "execution_count": 22,
   "id": "61bab829",
   "metadata": {},
   "outputs": [],
   "source": [
    "import pandas as pd\n",
    "import matplotlib.pyplot as plt"
   ]
  },
  {
   "cell_type": "code",
   "execution_count": 34,
   "id": "9ee566ed",
   "metadata": {},
   "outputs": [],
   "source": [
    "import numpy as np\n",
    "from scipy.integrate import quad\n",
    "\n",
    "# Heston call price\n",
    "def Heston_call_price(S0, v0, K, T, r, q, κ, θ, σ, ρ, λ):\n",
    "    p1 = p_Heston(S0, v0, K, r, q, T, κ, θ, σ, ρ, λ, 1)\n",
    "    p2 = p_Heston(S0, v0, K, r, q, T, κ, θ, σ, ρ, λ, 2)\n",
    "    call_price = S0 * np.exp(-q*T) * p1 - K * np.exp(-r*T) * p2\n",
    "    return call_price\n",
    "\n",
    "# Heston probability\n",
    "def p_Heston(S0, v0, K, r, q, T, κ, θ, σ, ρ, λ, j):\n",
    "    integrand= lambda Φ: np.real(\n",
    "        np.exp(-1j * Φ * np.log(K))\n",
    "        * f_Heston(Φ, S0, v0, T, r, q, κ, θ, σ, ρ, λ, j)\n",
    "        / (1j * Φ)\n",
    "        )\n",
    "    integral= quad(integrand, 0, 100)[0]\n",
    "    p = 0.5 + (1 / np.pi) * integral\n",
    "    return p\n",
    "\n",
    "# Heston characteristic function\n",
    "def f_Heston(Φ, S0, v0, T, r, q, κ, θ, σ, ρ, λ, j):\n",
    "\n",
    "    if j == 1:\n",
    "        u = 0.5\n",
    "        b = κ + λ - ρ * σ\n",
    "    else:   \n",
    "        u = -0.5\n",
    "        b = κ + λ \n",
    "    \n",
    "\n",
    "    d = np.sqrt((1j * ρ * σ * Φ - b)**2 - σ**2 * (1j *  2 * u * Φ - Φ**2))\n",
    "    g = (b - 1j * ρ * σ * Φ + d) / (b - 1j * ρ * σ * Φ - d)\n",
    "    C = 1j* ((r - q) * Φ * T + (κ * θ / σ**2)\n",
    "             * ((b - 1j * ρ * σ * Φ + d) * T - 2\n",
    "             * np.log((1 - g * np.exp(d * T))/(1 - g)))\n",
    "            )\n",
    "    D = (b - 1j * ρ * σ * Φ + d) / σ**2 * ((1 - np.exp(d * T)) / (1 - g * np.exp(d * T)))\n",
    "    f = np.exp(C + D * v0 + 1j * Φ * np.log(S0))\n",
    "    return f"
   ]
  },
  {
   "attachments": {},
   "cell_type": "markdown",
   "id": "a51aeca1",
   "metadata": {},
   "source": [
    "Now, let's define some parameters and price a call option. We also price the corresponding put using the put-call parity, i.e.,\n",
    "\n",
    "\\begin{equation}\n",
    "    V_p = V_c + Ke^{-rT} - S_0e^{-qT}\n",
    "\\end{equation}\n",
    "\n",
    "where $V_p$ is the price of the put option and $V_c$ is the price of the call option."
   ]
  },
  {
   "cell_type": "code",
   "execution_count": 35,
   "id": "b1bb2579",
   "metadata": {},
   "outputs": [],
   "source": [
    "df = pd.read_csv('E:\\RoboAdvisor\\merged_test.csv')\n",
    "df = df.dropna(subset=['stockPrice'])\n",
    "df['Datetime'] = pd.to_datetime(df['Datetime']).dt.tz_localize(None)\n",
    "df['Expiration_Date'] = pd.to_datetime(df['Expiration_Date'])\n",
    "df['Time_to_Expiration'] = (\n",
    "    df['Expiration_Date'] - df['Datetime']) / pd.Timedelta(days=252)\n",
    "df = df[df['CALL_PUT'] == 'CALL']\n",
    "df = df[df['contractSymbol'] == 'SPY230915C00455000']"
   ]
  },
  {
   "cell_type": "code",
   "execution_count": 47,
   "id": "abb276b1",
   "metadata": {},
   "outputs": [],
   "source": [
    "option_prices = []\n",
    "for index, row in df.iterrows():\n",
    "    S0 = row['stockPrice']\n",
    "    v0 = 0.04    # initial variance\n",
    "    K = row['Strike']\n",
    "    T = row['Time_to_Expiration']\n",
    "    r = 0.04     # risk-free interest rate\n",
    "    q = 0.02     # dividend rate\n",
    "    κ = 2    # mean reversion rate    \n",
    "    θ = 0.04 # Long term mean of variance\n",
    "    σ = 0.3  # volatility of volatility\n",
    "    ρ = -0.5   # correlation between Brownian motions\n",
    "    λ = 0    # market price of volatility risk\n",
    "    option_price = Heston_call_price(S0, v0, K, T, r, q, κ, θ, σ, ρ, λ)\n",
    "    option_prices.append(option_price)\n",
    "df['Option_Price'] = option_prices"
   ]
  },
  {
   "cell_type": "code",
   "execution_count": 48,
   "id": "65186380",
   "metadata": {},
   "outputs": [
    {
     "data": {
      "text/html": [
       "<div>\n",
       "<style scoped>\n",
       "    .dataframe tbody tr th:only-of-type {\n",
       "        vertical-align: middle;\n",
       "    }\n",
       "\n",
       "    .dataframe tbody tr th {\n",
       "        vertical-align: top;\n",
       "    }\n",
       "\n",
       "    .dataframe thead th {\n",
       "        text-align: right;\n",
       "    }\n",
       "</style>\n",
       "<table border=\"1\" class=\"dataframe\">\n",
       "  <thead>\n",
       "    <tr style=\"text-align: right;\">\n",
       "      <th></th>\n",
       "      <th>Datetime</th>\n",
       "      <th>Actual_Value</th>\n",
       "      <th>Theoretical_Value</th>\n",
       "    </tr>\n",
       "  </thead>\n",
       "  <tbody>\n",
       "    <tr>\n",
       "      <th>206189</th>\n",
       "      <td>2023-07-24 09:30:00</td>\n",
       "      <td>9.47</td>\n",
       "      <td>16.532585</td>\n",
       "    </tr>\n",
       "    <tr>\n",
       "      <th>206190</th>\n",
       "      <td>2023-07-24 09:32:00</td>\n",
       "      <td>9.67</td>\n",
       "      <td>16.608704</td>\n",
       "    </tr>\n",
       "    <tr>\n",
       "      <th>206191</th>\n",
       "      <td>2023-07-24 09:34:00</td>\n",
       "      <td>9.69</td>\n",
       "      <td>16.781881</td>\n",
       "    </tr>\n",
       "    <tr>\n",
       "      <th>206192</th>\n",
       "      <td>2023-07-24 09:41:00</td>\n",
       "      <td>9.80</td>\n",
       "      <td>16.764353</td>\n",
       "    </tr>\n",
       "    <tr>\n",
       "      <th>206193</th>\n",
       "      <td>2023-07-24 09:42:00</td>\n",
       "      <td>9.80</td>\n",
       "      <td>16.836689</td>\n",
       "    </tr>\n",
       "    <tr>\n",
       "      <th>...</th>\n",
       "      <td>...</td>\n",
       "      <td>...</td>\n",
       "      <td>...</td>\n",
       "    </tr>\n",
       "    <tr>\n",
       "      <th>1538365</th>\n",
       "      <td>2023-09-01 15:55:00</td>\n",
       "      <td>1.88</td>\n",
       "      <td>6.657128</td>\n",
       "    </tr>\n",
       "    <tr>\n",
       "      <th>1538366</th>\n",
       "      <td>2023-09-01 15:56:00</td>\n",
       "      <td>1.89</td>\n",
       "      <td>6.656909</td>\n",
       "    </tr>\n",
       "    <tr>\n",
       "      <th>1538367</th>\n",
       "      <td>2023-09-01 15:57:00</td>\n",
       "      <td>1.89</td>\n",
       "      <td>6.684389</td>\n",
       "    </tr>\n",
       "    <tr>\n",
       "      <th>1538368</th>\n",
       "      <td>2023-09-01 15:58:00</td>\n",
       "      <td>1.89</td>\n",
       "      <td>6.672622</td>\n",
       "    </tr>\n",
       "    <tr>\n",
       "      <th>1538369</th>\n",
       "      <td>2023-09-01 15:59:00</td>\n",
       "      <td>1.83</td>\n",
       "      <td>6.660866</td>\n",
       "    </tr>\n",
       "  </tbody>\n",
       "</table>\n",
       "<p>4687 rows × 3 columns</p>\n",
       "</div>"
      ],
      "text/plain": [
       "                   Datetime  Actual_Value  Theoretical_Value\n",
       "206189  2023-07-24 09:30:00          9.47          16.532585\n",
       "206190  2023-07-24 09:32:00          9.67          16.608704\n",
       "206191  2023-07-24 09:34:00          9.69          16.781881\n",
       "206192  2023-07-24 09:41:00          9.80          16.764353\n",
       "206193  2023-07-24 09:42:00          9.80          16.836689\n",
       "...                     ...           ...                ...\n",
       "1538365 2023-09-01 15:55:00          1.88           6.657128\n",
       "1538366 2023-09-01 15:56:00          1.89           6.656909\n",
       "1538367 2023-09-01 15:57:00          1.89           6.684389\n",
       "1538368 2023-09-01 15:58:00          1.89           6.672622\n",
       "1538369 2023-09-01 15:59:00          1.83           6.660866\n",
       "\n",
       "[4687 rows x 3 columns]"
      ]
     },
     "execution_count": 48,
     "metadata": {},
     "output_type": "execute_result"
    }
   ],
   "source": [
    "new_df = pd.DataFrame({\n",
    "    'Datetime': df['Datetime'],\n",
    "    'Actual_Value': df['Close'],\n",
    "    'Theoretical_Value': df['Option_Price']\n",
    "})\n",
    "new_df"
   ]
  },
  {
   "cell_type": "code",
   "execution_count": 49,
   "id": "f5e79ddb",
   "metadata": {},
   "outputs": [
    {
     "data": {
      "image/png": "[encoded data removed]",
      "text/plain": [
       "<Figure size 1000x600 with 1 Axes>"
      ]
     },
     "metadata": {},
     "output_type": "display_data"
    },
    {
     "name": "stdout",
     "output_type": "stream",
     "text": [
      "Cross Entropy: 1.0\n"
     ]
    }
   ],
   "source": [
    "new_df\n",
    "# 將Datetime欄位轉換為日期時間型態\n",
    "new_df['Datetime'] = pd.to_datetime(new_df['Datetime'])\n",
    "# 設定圖形的大小\n",
    "plt.figure(figsize=(10, 6))\n",
    "# 繪製Actual_Value線\n",
    "plt.plot(new_df['Datetime'], new_df['Actual_Value'], label='Actual_Value')\n",
    "# 繪製Theoretical_Value線\n",
    "plt.plot(new_df['Datetime'], new_df['Theoretical_Value'], label='Theoretical_Value')\n",
    "# 添加圖例\n",
    "plt.legend()\n",
    "# 添加標題和軸標籤 \n",
    "plt.title('SPY230915C00455000')\n",
    "plt.xlabel('Datetime')\n",
    "plt.ylabel('Value')\n",
    "\n",
    "# 顯示圖形\n",
    "plt.show()\n",
    "\n",
    "# 將實際值和理論值轉換成概率分佈\n",
    "actual_prob = new_df['Actual_Value'] / new_df['Actual_Value'].sum()\n",
    "theoretical_prob = new_df['Theoretical_Value'] / new_df['Theoretical_Value'].sum()\n",
    "\n",
    "# 計算交叉熵\n",
    "\n",
    "p=[1/10 for i in range(10)] # list comprehension\n",
    "cross_entropy = -np.sum(p * np.log10(p))\n",
    "print(\"Cross Entropy:\", cross_entropy)"
   ]
  },
  {
   "cell_type": "code",
   "execution_count": 56,
   "id": "877be861",
   "metadata": {},
   "outputs": [
    {
     "data": {
      "text/plain": [
       "(6.123233995736766e-17+1j)"
      ]
     },
     "execution_count": 56,
     "metadata": {},
     "output_type": "execute_result"
    }
   ],
   "source": [
    "(-1)**0.5\n"
   ]
  },
  {
   "cell_type": "code",
   "execution_count": 57,
   "id": "59234586",
   "metadata": {},
   "outputs": [
    {
     "data": {
      "text/plain": [
       "(0.7071067811865476+0.7071067811865476j)"
      ]
     },
     "execution_count": 57,
     "metadata": {},
     "output_type": "execute_result"
    }
   ],
   "source": [
    "np.exp(1j * np.pi/4)"
   ]
  },
  {
   "cell_type": "code",
   "execution_count": 58,
   "id": "1a8c50e2",
   "metadata": {},
   "outputs": [
    {
     "data": {
      "text/plain": [
       "(1.0986841134678098+0.45508986056222733j)"
      ]
     },
     "execution_count": 58,
     "metadata": {},
     "output_type": "execute_result"
    }
   ],
   "source": [
    "(1+1j)**0.5"
   ]
  },
  {
   "cell_type": "code",
   "execution_count": 61,
   "id": "8c0c3acd",
   "metadata": {},
   "outputs": [
    {
     "data": {
      "text/plain": [
       "(1.0986841134678098+0.45508986056222733j)"
      ]
     },
     "execution_count": 61,
     "metadata": {},
     "output_type": "execute_result"
    }
   ],
   "source": [
    "2**0.25 * np.exp(1j * np.pi/8)"
   ]
  },
  {
   "cell_type": "code",
   "execution_count": 64,
   "id": "a12705f4",
   "metadata": {},
   "outputs": [
    {
     "data": {
      "text/plain": [
       "True"
      ]
     },
     "execution_count": 64,
     "metadata": {},
     "output_type": "execute_result"
    }
   ],
   "source": [
    "100.5j == 1j  * 100.5"
   ]
  },
  {
   "cell_type": "code",
   "execution_count": 63,
   "id": "af28feeb",
   "metadata": {},
   "outputs": [
    {
     "data": {
      "text/plain": [
       "100.5j"
      ]
     },
     "execution_count": 63,
     "metadata": {},
     "output_type": "execute_result"
    }
   ],
   "source": []
  },
  {
   "cell_type": "code",
   "execution_count": null,
   "id": "ffe42089",
   "metadata": {},
   "outputs": [],
   "source": []
  }
 ],
 "metadata": {
  "authors": [
   {
    "email": "robin.guilliou@gmail.com",
    "name": "Robin Guilliou"
   }
  ],
  "kernelspec": {
   "display_name": "Python 3 (ipykernel)",
   "language": "python",
   "name": "python3"
  },
  "language_info": {
   "codemirror_mode": {
    "name": "ipython",
    "version": 3
   },
   "file_extension": ".py",
   "mimetype": "text/x-python",
   "name": "python",
   "nbconvert_exporter": "python",
   "pygments_lexer": "ipython3",
   "version": "3.11.2"
  },
  "latex_envs": {
   "LaTeX_envs_menu_present": true,
   "autoclose": false,
   "autocomplete": true,
   "bibliofile": "biblio.bib",
   "cite_by": "apalike",
   "current_citInitial": 1,
   "eqLabelWithNumbers": true,
   "eqNumInitial": 1,
   "hotkeys": {
    "equation": "Ctrl-E",
    "itemize": "Ctrl-I"
   },
   "labels_anchors": false,
   "latex_user_defs": false,
   "report_style_numbering": false,
   "user_envs_cfg": false
  },
  "toc": {
   "base_numbering": 1,
   "nav_menu": {},
   "number_sections": true,
   "sideBar": true,
   "skip_h1_title": true,
   "title_cell": "Table of Contents",
   "title_sidebar": "Contents",
   "toc_cell": false,
   "toc_position": {},
   "toc_section_display": true,
   "toc_window_display": false
  },
  "varInspector": {
   "cols": {
    "lenName": 16,
    "lenType": 16,
    "lenVar": 40
   },
   "kernels_config": {
    "python": {
     "delete_cmd_postfix": "",
     "delete_cmd_prefix": "del ",
     "library": "var_list.py",
     "varRefreshCmd": "print(var_dic_list())"
    },
    "r": {
     "delete_cmd_postfix": ") ",
     "delete_cmd_prefix": "rm(",
     "library": "var_list.r",
     "varRefreshCmd": "cat(var_dic_list()) "
    }
   },
   "types_to_exclude": [
    "module",
    "function",
    "builtin_function_or_method",
    "instance",
    "_Feature"
   ],
   "window_display": false
  }
 },
 "nbformat": 4,
 "nbformat_minor": 5
}
