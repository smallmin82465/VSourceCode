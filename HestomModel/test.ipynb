{
 "cells": [
  {
   "cell_type": "code",
   "execution_count": 4,
   "metadata": {},
   "outputs": [],
   "source": [
    "import numpy as np\n",
    "from scipy.integrate import quad\n",
    "import matplotlib.pyplot as plt\n",
    "import pandas as pd\n",
    "# Heston call price\n",
    "def Heston_call_price(S0, v0, K, T, r, q, kappa, theta, sigma, rho, lmbda):\n",
    "    p1 = p_Heston(S0, v0, K, r, q, T, kappa, theta, sigma, rho, lmbda, 1)\n",
    "    p2 = p_Heston(S0, v0, K, r, q, T, kappa, theta, sigma, rho, lmbda, 2)\n",
    "    return S0 * np.exp(-q*T) * p1 - K * np.exp(-r*T) * p2\n",
    "\n",
    "# Heston probability\n",
    "def p_Heston(S0, v0, K, r, q, T, kappa, theta, sigma, rho, lmbda, j):\n",
    "    integrand = lambda phi: np.real(np.exp(-1j * phi * np.log(K)) \\\n",
    "                                    * f_Heston(phi, S0, v0, T, r, q, kappa, theta, sigma, rho, lmbda, j) \\\n",
    "                                    / (1j * phi))    \n",
    "    integral = quad(integrand, 0, 100)[0]\n",
    "    return 0.5 + (1 / np.pi) * integral\n",
    "\n",
    "# Heston characteristic function\n",
    "def f_Heston(phi, S0, v0, T, r, q, kappa, theta, sigma, rho, lmbda, j):\n",
    "        \n",
    "    if j == 1:\n",
    "        u = 0.5\n",
    "        b = kappa + lmbda - rho * sigma\n",
    "    else:\n",
    "        u = -0.5\n",
    "        b = kappa + lmbda\n",
    "    \n",
    "    a = kappa * theta\n",
    "    d = np.sqrt((rho * sigma * phi * 1j - b)**2 - sigma**2 * (2 * u * phi * 1j - phi**2))\n",
    "    g = (b - rho * sigma * phi * 1j + d) / (b - rho * sigma * phi * 1j - d)\n",
    "    C = (r - q) * phi * 1j * T + (a / sigma**2) \\\n",
    "            * ((b - rho * sigma * phi * 1j + d) * T - 2 * np.log((1 - g * np.exp(d * T))/(1 - g)))\n",
    "    D = (b - rho * sigma * phi * 1j + d) / sigma**2 * ((1 - np.exp(d * T)) / (1 - g * np.exp(d * T)))\n",
    "    \n",
    "    return np.exp(C + D * v0 + 1j * phi * np.log(S0))"
   ]
  },
  {
   "cell_type": "code",
   "execution_count": 2,
   "metadata": {},
   "outputs": [
    {
     "name": "stdout",
     "output_type": "stream",
     "text": [
      "Call price: 7.78614\n",
      "Put price:  1.91469\n"
     ]
    }
   ],
   "source": [
    "# Parameters\n",
    "T = 1        # maturity\n",
    "S0 = 55      # spot price\n",
    "K = 50       # strike price\n",
    "r = 0.04     # risk-free interest rate\n",
    "q = 0.02     # dividend rate\n",
    "v0 = 0.04    # initial variance\n",
    "rho = -0.7   # correlation between Brownian motions\n",
    "kappa = 2    # mean reversion rate\n",
    "theta = 0.04 # Long term mean of variance\n",
    "sigma = 0.3  # volatility of volatility\n",
    "lmbda = 0    # market price of volatility risk\n",
    "\n",
    "# Option values\n",
    "Vc = Heston_call_price(S0, v0, K, T, r, q, kappa, theta, sigma, rho, lmbda) # call\n",
    "Vp = Vc + K*np.exp(-r*T) - S0*np.exp(-q*T) # put with put-call parity\n",
    "\n",
    "print('Call price: ' + str(round(Vc, 5)))\n",
    "print('Put price:  ' + str(round(Vp, 5)))"
   ]
  },
  {
   "cell_type": "code",
   "execution_count": 5,
   "metadata": {},
   "outputs": [],
   "source": [
    "df = pd.read_csv('E:\\RoboAdvisor\\merged_test.csv')\n",
    "df = df.dropna(subset=['stockPrice'])\n",
    "df['Datetime'] = pd.to_datetime(df['Datetime']).dt.tz_localize(None)\n",
    "df['Expiration_Date'] = pd.to_datetime(df['Expiration_Date'])\n",
    "df['Time_to_Expiration'] = (\n",
    "    df['Expiration_Date'] - df['Datetime']) / pd.Timedelta(days=365)\n",
    "df = df[df['CALL_PUT'] == 'CALL']\n",
    "df = df[df['contractSymbol'] == 'SPY230915C00455000']"
   ]
  },
  {
   "cell_type": "code",
   "execution_count": null,
   "metadata": {},
   "outputs": [],
   "source": [
    "option_prices = []\n",
    "for index, row in df.iterrows():\n",
    "    S = row['stockPrice']\n",
    "    K = row['Strike']\n",
    "    T = row['Time_to_Expiration']\n",
    "    r = 0.04     # risk-free interest rate\n",
    "    q = 0.02     # dividend rate\n",
    "    v0 = 0.1    # initial variance\n",
    "    rho = -0.5   # correlation between Brownian motions\n",
    "    kappa = 2    # mean reversion rate\n",
    "    theta = 0.1 # Long term mean of variance\n",
    "    sigma = 0.3  # volatility of volatility\n",
    "    lmbda = 0    # market price of volatility risk\n",
    "    option_price = Heston_call_price(S0, v0, K, T, r, q, kappa, theta, sigma, rho, lmbda)\n",
    "    option_prices.append(option_price)\n",
    "df['Option_Price'] = option_prices"
   ]
  }
 ],
 "metadata": {
  "kernelspec": {
   "display_name": ".robo",
   "language": "python",
   "name": "python3"
  },
  "language_info": {
   "codemirror_mode": {
    "name": "ipython",
    "version": 3
   },
   "file_extension": ".py",
   "mimetype": "text/x-python",
   "name": "python",
   "nbconvert_exporter": "python",
   "pygments_lexer": "ipython3",
   "version": "3.11.2"
  },
  "orig_nbformat": 4
 },
 "nbformat": 4,
 "nbformat_minor": 2
}
